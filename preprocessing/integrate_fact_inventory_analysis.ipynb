{
 "cells": [
  {
   "cell_type": "markdown",
   "metadata": {},
   "source": [
    "## 1.Import library"
   ]
  },
  {
   "cell_type": "code",
   "execution_count": 1,
   "metadata": {},
   "outputs": [],
   "source": [
    "import pandas as pd\n"
   ]
  },
  {
   "cell_type": "markdown",
   "metadata": {},
   "source": [
    "## 2.Read CSV "
   ]
  },
  {
   "cell_type": "markdown",
   "metadata": {},
   "source": [
    "### 2.1. Film CSV"
   ]
  },
  {
   "cell_type": "code",
   "execution_count": 2,
   "metadata": {},
   "outputs": [],
   "source": [
    "df_film=pd.read_csv('./data/csv/film.csv')"
   ]
  },
  {
   "cell_type": "code",
   "execution_count": 3,
   "metadata": {},
   "outputs": [
    {
     "data": {
      "text/plain": [
       "(1002, 14)"
      ]
     },
     "execution_count": 3,
     "metadata": {},
     "output_type": "execute_result"
    }
   ],
   "source": [
    "df_film.shape\n"
   ]
  },
  {
   "cell_type": "code",
   "execution_count": 4,
   "metadata": {},
   "outputs": [
    {
     "data": {
      "text/html": [
       "<div>\n",
       "<style scoped>\n",
       "    .dataframe tbody tr th:only-of-type {\n",
       "        vertical-align: middle;\n",
       "    }\n",
       "\n",
       "    .dataframe tbody tr th {\n",
       "        vertical-align: top;\n",
       "    }\n",
       "\n",
       "    .dataframe thead th {\n",
       "        text-align: right;\n",
       "    }\n",
       "</style>\n",
       "<table border=\"1\" class=\"dataframe\">\n",
       "  <thead>\n",
       "    <tr style=\"text-align: right;\">\n",
       "      <th></th>\n",
       "      <th>film_id</th>\n",
       "      <th>title</th>\n",
       "      <th>description</th>\n",
       "      <th>release_year</th>\n",
       "      <th>language_id</th>\n",
       "      <th>original_language_id</th>\n",
       "      <th>rental_duration</th>\n",
       "      <th>rental_rate</th>\n",
       "      <th>length</th>\n",
       "      <th>replacement_cost</th>\n",
       "      <th>rating</th>\n",
       "      <th>last_update</th>\n",
       "      <th>special_features</th>\n",
       "      <th>fulltext</th>\n",
       "    </tr>\n",
       "  </thead>\n",
       "  <tbody>\n",
       "    <tr>\n",
       "      <th>0</th>\n",
       "      <td>1</td>\n",
       "      <td>ACADEMY DINOSAUR</td>\n",
       "      <td>An Epic Drama of a Feminist And a Mad Scientis...</td>\n",
       "      <td>2006.0</td>\n",
       "      <td>1</td>\n",
       "      <td>NaN</td>\n",
       "      <td>6</td>\n",
       "      <td>0.99</td>\n",
       "      <td>86.0</td>\n",
       "      <td>20.99</td>\n",
       "      <td>PG</td>\n",
       "      <td>2007-09-10 17:46:03.905795</td>\n",
       "      <td>{\"Deleted Scenes\",\"Behind the Scenes\"}</td>\n",
       "      <td>'academi':1 'battl':15 'canadian':20 'dinosaur...</td>\n",
       "    </tr>\n",
       "    <tr>\n",
       "      <th>1</th>\n",
       "      <td>2</td>\n",
       "      <td>ACE GOLDFINGER</td>\n",
       "      <td>A Astounding Epistle of a Database Administrat...</td>\n",
       "      <td>2006.0</td>\n",
       "      <td>1</td>\n",
       "      <td>NaN</td>\n",
       "      <td>3</td>\n",
       "      <td>4.99</td>\n",
       "      <td>48.0</td>\n",
       "      <td>12.99</td>\n",
       "      <td>G</td>\n",
       "      <td>2007-09-10 17:46:03.905795</td>\n",
       "      <td>{Trailers,\"Deleted Scenes\"}</td>\n",
       "      <td>'ace':1 'administr':9 'ancient':19 'astound':4...</td>\n",
       "    </tr>\n",
       "    <tr>\n",
       "      <th>2</th>\n",
       "      <td>3</td>\n",
       "      <td>ADAPTATION HOLES</td>\n",
       "      <td>A Astounding Reflection of a Lumberjack And a ...</td>\n",
       "      <td>2006.0</td>\n",
       "      <td>1</td>\n",
       "      <td>NaN</td>\n",
       "      <td>7</td>\n",
       "      <td>2.99</td>\n",
       "      <td>50.0</td>\n",
       "      <td>18.99</td>\n",
       "      <td>NC-17</td>\n",
       "      <td>2007-09-10 17:46:03.905795</td>\n",
       "      <td>{Trailers,\"Deleted Scenes\"}</td>\n",
       "      <td>'adapt':1 'astound':4 'baloon':19 'car':11 'fa...</td>\n",
       "    </tr>\n",
       "    <tr>\n",
       "      <th>3</th>\n",
       "      <td>4</td>\n",
       "      <td>AFFAIR PREJUDICE</td>\n",
       "      <td>A Fanciful Documentary of a Frisbee And a Lumb...</td>\n",
       "      <td>2006.0</td>\n",
       "      <td>1</td>\n",
       "      <td>NaN</td>\n",
       "      <td>5</td>\n",
       "      <td>2.99</td>\n",
       "      <td>117.0</td>\n",
       "      <td>26.99</td>\n",
       "      <td>G</td>\n",
       "      <td>2007-09-10 17:46:03.905795</td>\n",
       "      <td>{Commentaries,\"Behind the Scenes\"}</td>\n",
       "      <td>'affair':1 'chase':14 'documentari':5 'fanci':...</td>\n",
       "    </tr>\n",
       "    <tr>\n",
       "      <th>4</th>\n",
       "      <td>5</td>\n",
       "      <td>AFRICAN EGG</td>\n",
       "      <td>A Fast-Paced Documentary of a Pastry Chef And ...</td>\n",
       "      <td>2006.0</td>\n",
       "      <td>1</td>\n",
       "      <td>NaN</td>\n",
       "      <td>6</td>\n",
       "      <td>2.99</td>\n",
       "      <td>130.0</td>\n",
       "      <td>22.99</td>\n",
       "      <td>G</td>\n",
       "      <td>2007-09-10 17:46:03.905795</td>\n",
       "      <td>{\"Deleted Scenes\"}</td>\n",
       "      <td>'african':1 'chef':11 'dentist':14 'documentar...</td>\n",
       "    </tr>\n",
       "  </tbody>\n",
       "</table>\n",
       "</div>"
      ],
      "text/plain": [
       "   film_id             title  \\\n",
       "0        1  ACADEMY DINOSAUR   \n",
       "1        2    ACE GOLDFINGER   \n",
       "2        3  ADAPTATION HOLES   \n",
       "3        4  AFFAIR PREJUDICE   \n",
       "4        5       AFRICAN EGG   \n",
       "\n",
       "                                         description  release_year  \\\n",
       "0  An Epic Drama of a Feminist And a Mad Scientis...        2006.0   \n",
       "1  A Astounding Epistle of a Database Administrat...        2006.0   \n",
       "2  A Astounding Reflection of a Lumberjack And a ...        2006.0   \n",
       "3  A Fanciful Documentary of a Frisbee And a Lumb...        2006.0   \n",
       "4  A Fast-Paced Documentary of a Pastry Chef And ...        2006.0   \n",
       "\n",
       "   language_id  original_language_id  rental_duration  rental_rate  length  \\\n",
       "0            1                   NaN                6         0.99    86.0   \n",
       "1            1                   NaN                3         4.99    48.0   \n",
       "2            1                   NaN                7         2.99    50.0   \n",
       "3            1                   NaN                5         2.99   117.0   \n",
       "4            1                   NaN                6         2.99   130.0   \n",
       "\n",
       "   replacement_cost rating                 last_update  \\\n",
       "0             20.99     PG  2007-09-10 17:46:03.905795   \n",
       "1             12.99      G  2007-09-10 17:46:03.905795   \n",
       "2             18.99  NC-17  2007-09-10 17:46:03.905795   \n",
       "3             26.99      G  2007-09-10 17:46:03.905795   \n",
       "4             22.99      G  2007-09-10 17:46:03.905795   \n",
       "\n",
       "                         special_features  \\\n",
       "0  {\"Deleted Scenes\",\"Behind the Scenes\"}   \n",
       "1             {Trailers,\"Deleted Scenes\"}   \n",
       "2             {Trailers,\"Deleted Scenes\"}   \n",
       "3      {Commentaries,\"Behind the Scenes\"}   \n",
       "4                      {\"Deleted Scenes\"}   \n",
       "\n",
       "                                            fulltext  \n",
       "0  'academi':1 'battl':15 'canadian':20 'dinosaur...  \n",
       "1  'ace':1 'administr':9 'ancient':19 'astound':4...  \n",
       "2  'adapt':1 'astound':4 'baloon':19 'car':11 'fa...  \n",
       "3  'affair':1 'chase':14 'documentari':5 'fanci':...  \n",
       "4  'african':1 'chef':11 'dentist':14 'documentar...  "
      ]
     },
     "execution_count": 4,
     "metadata": {},
     "output_type": "execute_result"
    }
   ],
   "source": [
    "df_film.head(5)"
   ]
  },
  {
   "cell_type": "markdown",
   "metadata": {},
   "source": [
    "### 2.2.Film category CSV"
   ]
  },
  {
   "cell_type": "code",
   "execution_count": 5,
   "metadata": {},
   "outputs": [],
   "source": [
    "df_film_category=pd.read_csv(\"./data/csv/film_category.csv\")"
   ]
  },
  {
   "cell_type": "code",
   "execution_count": 6,
   "metadata": {},
   "outputs": [
    {
     "data": {
      "text/plain": [
       "(1000, 3)"
      ]
     },
     "execution_count": 6,
     "metadata": {},
     "output_type": "execute_result"
    }
   ],
   "source": [
    "df_film_category.shape"
   ]
  },
  {
   "cell_type": "code",
   "execution_count": 7,
   "metadata": {},
   "outputs": [
    {
     "data": {
      "text/html": [
       "<div>\n",
       "<style scoped>\n",
       "    .dataframe tbody tr th:only-of-type {\n",
       "        vertical-align: middle;\n",
       "    }\n",
       "\n",
       "    .dataframe tbody tr th {\n",
       "        vertical-align: top;\n",
       "    }\n",
       "\n",
       "    .dataframe thead th {\n",
       "        text-align: right;\n",
       "    }\n",
       "</style>\n",
       "<table border=\"1\" class=\"dataframe\">\n",
       "  <thead>\n",
       "    <tr style=\"text-align: right;\">\n",
       "      <th></th>\n",
       "      <th>film_id</th>\n",
       "      <th>category_id</th>\n",
       "      <th>last_update</th>\n",
       "    </tr>\n",
       "  </thead>\n",
       "  <tbody>\n",
       "    <tr>\n",
       "      <th>0</th>\n",
       "      <td>1</td>\n",
       "      <td>6</td>\n",
       "      <td>2006-02-15 10:07:09</td>\n",
       "    </tr>\n",
       "    <tr>\n",
       "      <th>1</th>\n",
       "      <td>2</td>\n",
       "      <td>11</td>\n",
       "      <td>2006-02-15 10:07:09</td>\n",
       "    </tr>\n",
       "    <tr>\n",
       "      <th>2</th>\n",
       "      <td>3</td>\n",
       "      <td>6</td>\n",
       "      <td>2006-02-15 10:07:09</td>\n",
       "    </tr>\n",
       "    <tr>\n",
       "      <th>3</th>\n",
       "      <td>4</td>\n",
       "      <td>11</td>\n",
       "      <td>2006-02-15 10:07:09</td>\n",
       "    </tr>\n",
       "    <tr>\n",
       "      <th>4</th>\n",
       "      <td>5</td>\n",
       "      <td>8</td>\n",
       "      <td>2006-02-15 10:07:09</td>\n",
       "    </tr>\n",
       "  </tbody>\n",
       "</table>\n",
       "</div>"
      ],
      "text/plain": [
       "   film_id  category_id          last_update\n",
       "0        1            6  2006-02-15 10:07:09\n",
       "1        2           11  2006-02-15 10:07:09\n",
       "2        3            6  2006-02-15 10:07:09\n",
       "3        4           11  2006-02-15 10:07:09\n",
       "4        5            8  2006-02-15 10:07:09"
      ]
     },
     "execution_count": 7,
     "metadata": {},
     "output_type": "execute_result"
    }
   ],
   "source": [
    "df_film_category.head(5)"
   ]
  },
  {
   "cell_type": "markdown",
   "metadata": {},
   "source": [
    "### 2.3 Category CSV"
   ]
  },
  {
   "cell_type": "code",
   "execution_count": 8,
   "metadata": {},
   "outputs": [],
   "source": [
    "df_category=pd.read_csv(\"./data/csv/category.csv\")"
   ]
  },
  {
   "cell_type": "code",
   "execution_count": 9,
   "metadata": {},
   "outputs": [
    {
     "data": {
      "text/plain": [
       "(16, 3)"
      ]
     },
     "execution_count": 9,
     "metadata": {},
     "output_type": "execute_result"
    }
   ],
   "source": [
    "df_category.shape"
   ]
  },
  {
   "cell_type": "code",
   "execution_count": 10,
   "metadata": {},
   "outputs": [
    {
     "data": {
      "text/html": [
       "<div>\n",
       "<style scoped>\n",
       "    .dataframe tbody tr th:only-of-type {\n",
       "        vertical-align: middle;\n",
       "    }\n",
       "\n",
       "    .dataframe tbody tr th {\n",
       "        vertical-align: top;\n",
       "    }\n",
       "\n",
       "    .dataframe thead th {\n",
       "        text-align: right;\n",
       "    }\n",
       "</style>\n",
       "<table border=\"1\" class=\"dataframe\">\n",
       "  <thead>\n",
       "    <tr style=\"text-align: right;\">\n",
       "      <th></th>\n",
       "      <th>category_id</th>\n",
       "      <th>name</th>\n",
       "      <th>last_update</th>\n",
       "    </tr>\n",
       "  </thead>\n",
       "  <tbody>\n",
       "    <tr>\n",
       "      <th>0</th>\n",
       "      <td>1</td>\n",
       "      <td>Action</td>\n",
       "      <td>2006-02-15 09:46:27</td>\n",
       "    </tr>\n",
       "    <tr>\n",
       "      <th>1</th>\n",
       "      <td>2</td>\n",
       "      <td>Animation</td>\n",
       "      <td>2006-02-15 09:46:27</td>\n",
       "    </tr>\n",
       "    <tr>\n",
       "      <th>2</th>\n",
       "      <td>3</td>\n",
       "      <td>Children</td>\n",
       "      <td>2006-02-15 09:46:27</td>\n",
       "    </tr>\n",
       "    <tr>\n",
       "      <th>3</th>\n",
       "      <td>4</td>\n",
       "      <td>Classics</td>\n",
       "      <td>2006-02-15 09:46:27</td>\n",
       "    </tr>\n",
       "    <tr>\n",
       "      <th>4</th>\n",
       "      <td>5</td>\n",
       "      <td>Comedy</td>\n",
       "      <td>2006-02-15 09:46:27</td>\n",
       "    </tr>\n",
       "  </tbody>\n",
       "</table>\n",
       "</div>"
      ],
      "text/plain": [
       "   category_id       name          last_update\n",
       "0            1     Action  2006-02-15 09:46:27\n",
       "1            2  Animation  2006-02-15 09:46:27\n",
       "2            3   Children  2006-02-15 09:46:27\n",
       "3            4   Classics  2006-02-15 09:46:27\n",
       "4            5     Comedy  2006-02-15 09:46:27"
      ]
     },
     "execution_count": 10,
     "metadata": {},
     "output_type": "execute_result"
    }
   ],
   "source": [
    "df_category.head(5)"
   ]
  },
  {
   "cell_type": "markdown",
   "metadata": {},
   "source": [
    "### 2.4.Inventory CSV"
   ]
  },
  {
   "cell_type": "code",
   "execution_count": 11,
   "metadata": {},
   "outputs": [],
   "source": [
    "df_inventory=pd.read_csv('./data/csv/inventory.csv')"
   ]
  },
  {
   "cell_type": "code",
   "execution_count": 12,
   "metadata": {},
   "outputs": [
    {
     "data": {
      "text/plain": [
       "(4581, 4)"
      ]
     },
     "execution_count": 12,
     "metadata": {},
     "output_type": "execute_result"
    }
   ],
   "source": [
    "df_inventory.shape"
   ]
  },
  {
   "cell_type": "code",
   "execution_count": 13,
   "metadata": {},
   "outputs": [
    {
     "data": {
      "text/html": [
       "<div>\n",
       "<style scoped>\n",
       "    .dataframe tbody tr th:only-of-type {\n",
       "        vertical-align: middle;\n",
       "    }\n",
       "\n",
       "    .dataframe tbody tr th {\n",
       "        vertical-align: top;\n",
       "    }\n",
       "\n",
       "    .dataframe thead th {\n",
       "        text-align: right;\n",
       "    }\n",
       "</style>\n",
       "<table border=\"1\" class=\"dataframe\">\n",
       "  <thead>\n",
       "    <tr style=\"text-align: right;\">\n",
       "      <th></th>\n",
       "      <th>inventory_id</th>\n",
       "      <th>film_id</th>\n",
       "      <th>store_id</th>\n",
       "      <th>last_update</th>\n",
       "    </tr>\n",
       "  </thead>\n",
       "  <tbody>\n",
       "    <tr>\n",
       "      <th>0</th>\n",
       "      <td>1</td>\n",
       "      <td>1</td>\n",
       "      <td>1</td>\n",
       "      <td>2006-02-15 10:09:17</td>\n",
       "    </tr>\n",
       "    <tr>\n",
       "      <th>1</th>\n",
       "      <td>2</td>\n",
       "      <td>1</td>\n",
       "      <td>1</td>\n",
       "      <td>2006-02-15 10:09:17</td>\n",
       "    </tr>\n",
       "    <tr>\n",
       "      <th>2</th>\n",
       "      <td>3</td>\n",
       "      <td>1</td>\n",
       "      <td>1</td>\n",
       "      <td>2006-02-15 10:09:17</td>\n",
       "    </tr>\n",
       "    <tr>\n",
       "      <th>3</th>\n",
       "      <td>4</td>\n",
       "      <td>1</td>\n",
       "      <td>1</td>\n",
       "      <td>2006-02-15 10:09:17</td>\n",
       "    </tr>\n",
       "    <tr>\n",
       "      <th>4</th>\n",
       "      <td>5</td>\n",
       "      <td>1</td>\n",
       "      <td>2</td>\n",
       "      <td>2006-02-15 10:09:17</td>\n",
       "    </tr>\n",
       "  </tbody>\n",
       "</table>\n",
       "</div>"
      ],
      "text/plain": [
       "   inventory_id  film_id  store_id          last_update\n",
       "0             1        1         1  2006-02-15 10:09:17\n",
       "1             2        1         1  2006-02-15 10:09:17\n",
       "2             3        1         1  2006-02-15 10:09:17\n",
       "3             4        1         1  2006-02-15 10:09:17\n",
       "4             5        1         2  2006-02-15 10:09:17"
      ]
     },
     "execution_count": 13,
     "metadata": {},
     "output_type": "execute_result"
    }
   ],
   "source": [
    "df_inventory.head(5)"
   ]
  },
  {
   "cell_type": "markdown",
   "metadata": {},
   "source": [
    "### 2.5 Language CSV"
   ]
  },
  {
   "cell_type": "code",
   "execution_count": 14,
   "metadata": {},
   "outputs": [],
   "source": [
    "df_language=pd.read_csv(\"./data/csv/language.csv\")"
   ]
  },
  {
   "cell_type": "code",
   "execution_count": 15,
   "metadata": {},
   "outputs": [
    {
     "data": {
      "text/html": [
       "<div>\n",
       "<style scoped>\n",
       "    .dataframe tbody tr th:only-of-type {\n",
       "        vertical-align: middle;\n",
       "    }\n",
       "\n",
       "    .dataframe tbody tr th {\n",
       "        vertical-align: top;\n",
       "    }\n",
       "\n",
       "    .dataframe thead th {\n",
       "        text-align: right;\n",
       "    }\n",
       "</style>\n",
       "<table border=\"1\" class=\"dataframe\">\n",
       "  <thead>\n",
       "    <tr style=\"text-align: right;\">\n",
       "      <th></th>\n",
       "      <th>language_id</th>\n",
       "      <th>name</th>\n",
       "      <th>last_update</th>\n",
       "    </tr>\n",
       "  </thead>\n",
       "  <tbody>\n",
       "    <tr>\n",
       "      <th>0</th>\n",
       "      <td>1</td>\n",
       "      <td>English</td>\n",
       "      <td>2006-02-15 10:02:19</td>\n",
       "    </tr>\n",
       "    <tr>\n",
       "      <th>1</th>\n",
       "      <td>2</td>\n",
       "      <td>Italian</td>\n",
       "      <td>2006-02-15 10:02:19</td>\n",
       "    </tr>\n",
       "    <tr>\n",
       "      <th>2</th>\n",
       "      <td>3</td>\n",
       "      <td>Japanese</td>\n",
       "      <td>2006-02-15 10:02:19</td>\n",
       "    </tr>\n",
       "    <tr>\n",
       "      <th>3</th>\n",
       "      <td>4</td>\n",
       "      <td>Mandarin</td>\n",
       "      <td>2006-02-15 10:02:19</td>\n",
       "    </tr>\n",
       "    <tr>\n",
       "      <th>4</th>\n",
       "      <td>5</td>\n",
       "      <td>French</td>\n",
       "      <td>2006-02-15 10:02:19</td>\n",
       "    </tr>\n",
       "  </tbody>\n",
       "</table>\n",
       "</div>"
      ],
      "text/plain": [
       "   language_id                  name          last_update\n",
       "0            1  English               2006-02-15 10:02:19\n",
       "1            2  Italian               2006-02-15 10:02:19\n",
       "2            3  Japanese              2006-02-15 10:02:19\n",
       "3            4  Mandarin              2006-02-15 10:02:19\n",
       "4            5  French                2006-02-15 10:02:19"
      ]
     },
     "execution_count": 15,
     "metadata": {},
     "output_type": "execute_result"
    }
   ],
   "source": [
    "df_language.head(5)"
   ]
  },
  {
   "cell_type": "code",
   "execution_count": 16,
   "metadata": {},
   "outputs": [
    {
     "data": {
      "text/plain": [
       "(6, 3)"
      ]
     },
     "execution_count": 16,
     "metadata": {},
     "output_type": "execute_result"
    }
   ],
   "source": [
    "df_language.shape"
   ]
  },
  {
   "cell_type": "markdown",
   "metadata": {},
   "source": [
    "### 2.6 dimDate.csv"
   ]
  },
  {
   "cell_type": "code",
   "execution_count": 17,
   "metadata": {},
   "outputs": [],
   "source": [
    "df_DimDate=pd.read_csv(\"./data/tables/dimDate.csv\")"
   ]
  },
  {
   "cell_type": "code",
   "execution_count": 18,
   "metadata": {},
   "outputs": [
    {
     "data": {
      "text/plain": [
       "(2191, 23)"
      ]
     },
     "execution_count": 18,
     "metadata": {},
     "output_type": "execute_result"
    }
   ],
   "source": [
    "df_DimDate.shape"
   ]
  },
  {
   "cell_type": "code",
   "execution_count": 19,
   "metadata": {},
   "outputs": [
    {
     "data": {
      "text/html": [
       "<div>\n",
       "<style scoped>\n",
       "    .dataframe tbody tr th:only-of-type {\n",
       "        vertical-align: middle;\n",
       "    }\n",
       "\n",
       "    .dataframe tbody tr th {\n",
       "        vertical-align: top;\n",
       "    }\n",
       "\n",
       "    .dataframe thead th {\n",
       "        text-align: right;\n",
       "    }\n",
       "</style>\n",
       "<table border=\"1\" class=\"dataframe\">\n",
       "  <thead>\n",
       "    <tr style=\"text-align: right;\">\n",
       "      <th></th>\n",
       "      <th>date_key</th>\n",
       "      <th>full date</th>\n",
       "      <th>day of week</th>\n",
       "      <th>day num in month</th>\n",
       "      <th>day num overall</th>\n",
       "      <th>day name</th>\n",
       "      <th>day abbrev</th>\n",
       "      <th>weekday flag</th>\n",
       "      <th>week num in year</th>\n",
       "      <th>week num overall</th>\n",
       "      <th>...</th>\n",
       "      <th>month num overall</th>\n",
       "      <th>month name</th>\n",
       "      <th>month abbrev</th>\n",
       "      <th>quarter</th>\n",
       "      <th>year</th>\n",
       "      <th>yearmo</th>\n",
       "      <th>fiscal month</th>\n",
       "      <th>fiscal quarter</th>\n",
       "      <th>fiscal year</th>\n",
       "      <th>month end flag</th>\n",
       "    </tr>\n",
       "  </thead>\n",
       "  <tbody>\n",
       "    <tr>\n",
       "      <th>0</th>\n",
       "      <td>19960101</td>\n",
       "      <td>1/1/1996</td>\n",
       "      <td>1</td>\n",
       "      <td>1</td>\n",
       "      <td>1</td>\n",
       "      <td>Monday</td>\n",
       "      <td>Mon</td>\n",
       "      <td>Y</td>\n",
       "      <td>1</td>\n",
       "      <td>1</td>\n",
       "      <td>...</td>\n",
       "      <td>1</td>\n",
       "      <td>January</td>\n",
       "      <td>Jan</td>\n",
       "      <td>1</td>\n",
       "      <td>1996</td>\n",
       "      <td>199601</td>\n",
       "      <td>7</td>\n",
       "      <td>3</td>\n",
       "      <td>1996</td>\n",
       "      <td>N</td>\n",
       "    </tr>\n",
       "    <tr>\n",
       "      <th>1</th>\n",
       "      <td>19960102</td>\n",
       "      <td>1/2/1996</td>\n",
       "      <td>2</td>\n",
       "      <td>2</td>\n",
       "      <td>2</td>\n",
       "      <td>Tuesday</td>\n",
       "      <td>Tue</td>\n",
       "      <td>Y</td>\n",
       "      <td>1</td>\n",
       "      <td>1</td>\n",
       "      <td>...</td>\n",
       "      <td>1</td>\n",
       "      <td>January</td>\n",
       "      <td>Jan</td>\n",
       "      <td>1</td>\n",
       "      <td>1996</td>\n",
       "      <td>199601</td>\n",
       "      <td>7</td>\n",
       "      <td>3</td>\n",
       "      <td>1996</td>\n",
       "      <td>N</td>\n",
       "    </tr>\n",
       "    <tr>\n",
       "      <th>2</th>\n",
       "      <td>19960103</td>\n",
       "      <td>1/3/1996</td>\n",
       "      <td>3</td>\n",
       "      <td>3</td>\n",
       "      <td>3</td>\n",
       "      <td>Wednesday</td>\n",
       "      <td>Wed</td>\n",
       "      <td>Y</td>\n",
       "      <td>1</td>\n",
       "      <td>1</td>\n",
       "      <td>...</td>\n",
       "      <td>1</td>\n",
       "      <td>January</td>\n",
       "      <td>Jan</td>\n",
       "      <td>1</td>\n",
       "      <td>1996</td>\n",
       "      <td>199601</td>\n",
       "      <td>7</td>\n",
       "      <td>3</td>\n",
       "      <td>1996</td>\n",
       "      <td>N</td>\n",
       "    </tr>\n",
       "    <tr>\n",
       "      <th>3</th>\n",
       "      <td>19960104</td>\n",
       "      <td>1/4/1996</td>\n",
       "      <td>4</td>\n",
       "      <td>4</td>\n",
       "      <td>4</td>\n",
       "      <td>Thursday</td>\n",
       "      <td>Thu</td>\n",
       "      <td>Y</td>\n",
       "      <td>1</td>\n",
       "      <td>1</td>\n",
       "      <td>...</td>\n",
       "      <td>1</td>\n",
       "      <td>January</td>\n",
       "      <td>Jan</td>\n",
       "      <td>1</td>\n",
       "      <td>1996</td>\n",
       "      <td>199601</td>\n",
       "      <td>7</td>\n",
       "      <td>3</td>\n",
       "      <td>1996</td>\n",
       "      <td>N</td>\n",
       "    </tr>\n",
       "    <tr>\n",
       "      <th>4</th>\n",
       "      <td>19960105</td>\n",
       "      <td>1/5/1996</td>\n",
       "      <td>5</td>\n",
       "      <td>5</td>\n",
       "      <td>5</td>\n",
       "      <td>Friday</td>\n",
       "      <td>Fri</td>\n",
       "      <td>Y</td>\n",
       "      <td>1</td>\n",
       "      <td>1</td>\n",
       "      <td>...</td>\n",
       "      <td>1</td>\n",
       "      <td>January</td>\n",
       "      <td>Jan</td>\n",
       "      <td>1</td>\n",
       "      <td>1996</td>\n",
       "      <td>199601</td>\n",
       "      <td>7</td>\n",
       "      <td>3</td>\n",
       "      <td>1996</td>\n",
       "      <td>N</td>\n",
       "    </tr>\n",
       "  </tbody>\n",
       "</table>\n",
       "<p>5 rows × 23 columns</p>\n",
       "</div>"
      ],
      "text/plain": [
       "   date_key full date  day of week  day num in month  day num overall  \\\n",
       "0  19960101  1/1/1996            1                 1                1   \n",
       "1  19960102  1/2/1996            2                 2                2   \n",
       "2  19960103  1/3/1996            3                 3                3   \n",
       "3  19960104  1/4/1996            4                 4                4   \n",
       "4  19960105  1/5/1996            5                 5                5   \n",
       "\n",
       "    day name day abbrev weekday flag  week num in year  week num overall  ...  \\\n",
       "0     Monday        Mon            Y                 1                 1  ...   \n",
       "1    Tuesday        Tue            Y                 1                 1  ...   \n",
       "2  Wednesday        Wed            Y                 1                 1  ...   \n",
       "3   Thursday        Thu            Y                 1                 1  ...   \n",
       "4     Friday        Fri            Y                 1                 1  ...   \n",
       "\n",
       "  month num overall  month name  month abbrev  quarter  year  yearmo  \\\n",
       "0                 1     January           Jan        1  1996  199601   \n",
       "1                 1     January           Jan        1  1996  199601   \n",
       "2                 1     January           Jan        1  1996  199601   \n",
       "3                 1     January           Jan        1  1996  199601   \n",
       "4                 1     January           Jan        1  1996  199601   \n",
       "\n",
       "   fiscal month  fiscal quarter  fiscal year  month end flag  \n",
       "0             7               3         1996               N  \n",
       "1             7               3         1996               N  \n",
       "2             7               3         1996               N  \n",
       "3             7               3         1996               N  \n",
       "4             7               3         1996               N  \n",
       "\n",
       "[5 rows x 23 columns]"
      ]
     },
     "execution_count": 19,
     "metadata": {},
     "output_type": "execute_result"
    }
   ],
   "source": [
    "df_DimDate.head(5)"
   ]
  },
  {
   "cell_type": "markdown",
   "metadata": {},
   "source": [
    "## 3.Integrated"
   ]
  },
  {
   "cell_type": "markdown",
   "metadata": {},
   "source": [
    " ### 3.1.Join the film table with the film category table with the category table"
   ]
  },
  {
   "cell_type": "code",
   "execution_count": 20,
   "metadata": {},
   "outputs": [],
   "source": [
    "merged_film_film_category = pd.merge(df_film, df_film_category, on='film_id',how='inner')"
   ]
  },
  {
   "cell_type": "code",
   "execution_count": 21,
   "metadata": {},
   "outputs": [],
   "source": [
    "df_final_film=pd.merge(merged_film_film_category,df_category,on='category_id',how='inner')"
   ]
  },
  {
   "cell_type": "code",
   "execution_count": 22,
   "metadata": {},
   "outputs": [
    {
     "data": {
      "text/plain": [
       "Index(['film_id', 'title', 'description', 'release_year', 'language_id',\n",
       "       'original_language_id', 'rental_duration', 'rental_rate', 'length',\n",
       "       'replacement_cost', 'rating', 'last_update_x', 'special_features',\n",
       "       'fulltext', 'category_id', 'last_update_y', 'name', 'last_update'],\n",
       "      dtype='object')"
      ]
     },
     "execution_count": 22,
     "metadata": {},
     "output_type": "execute_result"
    }
   ],
   "source": [
    "df_final_film.columns"
   ]
  },
  {
   "cell_type": "code",
   "execution_count": 23,
   "metadata": {},
   "outputs": [
    {
     "data": {
      "text/html": [
       "<div>\n",
       "<style scoped>\n",
       "    .dataframe tbody tr th:only-of-type {\n",
       "        vertical-align: middle;\n",
       "    }\n",
       "\n",
       "    .dataframe tbody tr th {\n",
       "        vertical-align: top;\n",
       "    }\n",
       "\n",
       "    .dataframe thead th {\n",
       "        text-align: right;\n",
       "    }\n",
       "</style>\n",
       "<table border=\"1\" class=\"dataframe\">\n",
       "  <thead>\n",
       "    <tr style=\"text-align: right;\">\n",
       "      <th></th>\n",
       "      <th>film_id</th>\n",
       "      <th>title</th>\n",
       "      <th>description</th>\n",
       "      <th>release_year</th>\n",
       "      <th>language_id</th>\n",
       "      <th>original_language_id</th>\n",
       "      <th>rental_duration</th>\n",
       "      <th>rental_rate</th>\n",
       "      <th>length</th>\n",
       "      <th>replacement_cost</th>\n",
       "      <th>rating</th>\n",
       "      <th>last_update_x</th>\n",
       "      <th>special_features</th>\n",
       "      <th>fulltext</th>\n",
       "      <th>category_id</th>\n",
       "      <th>last_update_y</th>\n",
       "      <th>name</th>\n",
       "      <th>last_update</th>\n",
       "    </tr>\n",
       "  </thead>\n",
       "  <tbody>\n",
       "    <tr>\n",
       "      <th>0</th>\n",
       "      <td>1</td>\n",
       "      <td>ACADEMY DINOSAUR</td>\n",
       "      <td>An Epic Drama of a Feminist And a Mad Scientis...</td>\n",
       "      <td>2006.0</td>\n",
       "      <td>1</td>\n",
       "      <td>NaN</td>\n",
       "      <td>6</td>\n",
       "      <td>0.99</td>\n",
       "      <td>86.0</td>\n",
       "      <td>20.99</td>\n",
       "      <td>PG</td>\n",
       "      <td>2007-09-10 17:46:03.905795</td>\n",
       "      <td>{\"Deleted Scenes\",\"Behind the Scenes\"}</td>\n",
       "      <td>'academi':1 'battl':15 'canadian':20 'dinosaur...</td>\n",
       "      <td>6</td>\n",
       "      <td>2006-02-15 10:07:09</td>\n",
       "      <td>Documentary</td>\n",
       "      <td>2006-02-15 09:46:27</td>\n",
       "    </tr>\n",
       "    <tr>\n",
       "      <th>1</th>\n",
       "      <td>2</td>\n",
       "      <td>ACE GOLDFINGER</td>\n",
       "      <td>A Astounding Epistle of a Database Administrat...</td>\n",
       "      <td>2006.0</td>\n",
       "      <td>1</td>\n",
       "      <td>NaN</td>\n",
       "      <td>3</td>\n",
       "      <td>4.99</td>\n",
       "      <td>48.0</td>\n",
       "      <td>12.99</td>\n",
       "      <td>G</td>\n",
       "      <td>2007-09-10 17:46:03.905795</td>\n",
       "      <td>{Trailers,\"Deleted Scenes\"}</td>\n",
       "      <td>'ace':1 'administr':9 'ancient':19 'astound':4...</td>\n",
       "      <td>11</td>\n",
       "      <td>2006-02-15 10:07:09</td>\n",
       "      <td>Horror</td>\n",
       "      <td>2006-02-15 09:46:27</td>\n",
       "    </tr>\n",
       "    <tr>\n",
       "      <th>2</th>\n",
       "      <td>3</td>\n",
       "      <td>ADAPTATION HOLES</td>\n",
       "      <td>A Astounding Reflection of a Lumberjack And a ...</td>\n",
       "      <td>2006.0</td>\n",
       "      <td>1</td>\n",
       "      <td>NaN</td>\n",
       "      <td>7</td>\n",
       "      <td>2.99</td>\n",
       "      <td>50.0</td>\n",
       "      <td>18.99</td>\n",
       "      <td>NC-17</td>\n",
       "      <td>2007-09-10 17:46:03.905795</td>\n",
       "      <td>{Trailers,\"Deleted Scenes\"}</td>\n",
       "      <td>'adapt':1 'astound':4 'baloon':19 'car':11 'fa...</td>\n",
       "      <td>6</td>\n",
       "      <td>2006-02-15 10:07:09</td>\n",
       "      <td>Documentary</td>\n",
       "      <td>2006-02-15 09:46:27</td>\n",
       "    </tr>\n",
       "    <tr>\n",
       "      <th>3</th>\n",
       "      <td>4</td>\n",
       "      <td>AFFAIR PREJUDICE</td>\n",
       "      <td>A Fanciful Documentary of a Frisbee And a Lumb...</td>\n",
       "      <td>2006.0</td>\n",
       "      <td>1</td>\n",
       "      <td>NaN</td>\n",
       "      <td>5</td>\n",
       "      <td>2.99</td>\n",
       "      <td>117.0</td>\n",
       "      <td>26.99</td>\n",
       "      <td>G</td>\n",
       "      <td>2007-09-10 17:46:03.905795</td>\n",
       "      <td>{Commentaries,\"Behind the Scenes\"}</td>\n",
       "      <td>'affair':1 'chase':14 'documentari':5 'fanci':...</td>\n",
       "      <td>11</td>\n",
       "      <td>2006-02-15 10:07:09</td>\n",
       "      <td>Horror</td>\n",
       "      <td>2006-02-15 09:46:27</td>\n",
       "    </tr>\n",
       "    <tr>\n",
       "      <th>4</th>\n",
       "      <td>5</td>\n",
       "      <td>AFRICAN EGG</td>\n",
       "      <td>A Fast-Paced Documentary of a Pastry Chef And ...</td>\n",
       "      <td>2006.0</td>\n",
       "      <td>1</td>\n",
       "      <td>NaN</td>\n",
       "      <td>6</td>\n",
       "      <td>2.99</td>\n",
       "      <td>130.0</td>\n",
       "      <td>22.99</td>\n",
       "      <td>G</td>\n",
       "      <td>2007-09-10 17:46:03.905795</td>\n",
       "      <td>{\"Deleted Scenes\"}</td>\n",
       "      <td>'african':1 'chef':11 'dentist':14 'documentar...</td>\n",
       "      <td>8</td>\n",
       "      <td>2006-02-15 10:07:09</td>\n",
       "      <td>Family</td>\n",
       "      <td>2006-02-15 09:46:27</td>\n",
       "    </tr>\n",
       "  </tbody>\n",
       "</table>\n",
       "</div>"
      ],
      "text/plain": [
       "   film_id             title  \\\n",
       "0        1  ACADEMY DINOSAUR   \n",
       "1        2    ACE GOLDFINGER   \n",
       "2        3  ADAPTATION HOLES   \n",
       "3        4  AFFAIR PREJUDICE   \n",
       "4        5       AFRICAN EGG   \n",
       "\n",
       "                                         description  release_year  \\\n",
       "0  An Epic Drama of a Feminist And a Mad Scientis...        2006.0   \n",
       "1  A Astounding Epistle of a Database Administrat...        2006.0   \n",
       "2  A Astounding Reflection of a Lumberjack And a ...        2006.0   \n",
       "3  A Fanciful Documentary of a Frisbee And a Lumb...        2006.0   \n",
       "4  A Fast-Paced Documentary of a Pastry Chef And ...        2006.0   \n",
       "\n",
       "   language_id  original_language_id  rental_duration  rental_rate  length  \\\n",
       "0            1                   NaN                6         0.99    86.0   \n",
       "1            1                   NaN                3         4.99    48.0   \n",
       "2            1                   NaN                7         2.99    50.0   \n",
       "3            1                   NaN                5         2.99   117.0   \n",
       "4            1                   NaN                6         2.99   130.0   \n",
       "\n",
       "   replacement_cost rating               last_update_x  \\\n",
       "0             20.99     PG  2007-09-10 17:46:03.905795   \n",
       "1             12.99      G  2007-09-10 17:46:03.905795   \n",
       "2             18.99  NC-17  2007-09-10 17:46:03.905795   \n",
       "3             26.99      G  2007-09-10 17:46:03.905795   \n",
       "4             22.99      G  2007-09-10 17:46:03.905795   \n",
       "\n",
       "                         special_features  \\\n",
       "0  {\"Deleted Scenes\",\"Behind the Scenes\"}   \n",
       "1             {Trailers,\"Deleted Scenes\"}   \n",
       "2             {Trailers,\"Deleted Scenes\"}   \n",
       "3      {Commentaries,\"Behind the Scenes\"}   \n",
       "4                      {\"Deleted Scenes\"}   \n",
       "\n",
       "                                            fulltext  category_id  \\\n",
       "0  'academi':1 'battl':15 'canadian':20 'dinosaur...            6   \n",
       "1  'ace':1 'administr':9 'ancient':19 'astound':4...           11   \n",
       "2  'adapt':1 'astound':4 'baloon':19 'car':11 'fa...            6   \n",
       "3  'affair':1 'chase':14 'documentari':5 'fanci':...           11   \n",
       "4  'african':1 'chef':11 'dentist':14 'documentar...            8   \n",
       "\n",
       "         last_update_y         name          last_update  \n",
       "0  2006-02-15 10:07:09  Documentary  2006-02-15 09:46:27  \n",
       "1  2006-02-15 10:07:09       Horror  2006-02-15 09:46:27  \n",
       "2  2006-02-15 10:07:09  Documentary  2006-02-15 09:46:27  \n",
       "3  2006-02-15 10:07:09       Horror  2006-02-15 09:46:27  \n",
       "4  2006-02-15 10:07:09       Family  2006-02-15 09:46:27  "
      ]
     },
     "execution_count": 23,
     "metadata": {},
     "output_type": "execute_result"
    }
   ],
   "source": [
    "df_final_film.head(5)"
   ]
  },
  {
   "cell_type": "markdown",
   "metadata": {},
   "source": [
    "> Remove some unnecessary attributes"
   ]
  },
  {
   "cell_type": "code",
   "execution_count": 24,
   "metadata": {},
   "outputs": [],
   "source": [
    "list_remove=['category_id','last_update_y','last_update_x','last_update','fulltext','original_language_id']\n",
    "df_final_film.drop(list_remove, axis=1, inplace=True)\n"
   ]
  },
  {
   "cell_type": "code",
   "execution_count": 25,
   "metadata": {},
   "outputs": [
    {
     "data": {
      "text/plain": [
       "Index(['film_id', 'title', 'description', 'release_year', 'language_id',\n",
       "       'rental_duration', 'rental_rate', 'length', 'replacement_cost',\n",
       "       'rating', 'special_features', 'name'],\n",
       "      dtype='object')"
      ]
     },
     "execution_count": 25,
     "metadata": {},
     "output_type": "execute_result"
    }
   ],
   "source": [
    "df_final_film.columns"
   ]
  },
  {
   "cell_type": "markdown",
   "metadata": {},
   "source": [
    ">rename a few attributes"
   ]
  },
  {
   "cell_type": "code",
   "execution_count": 26,
   "metadata": {},
   "outputs": [],
   "source": [
    "df_final_film = df_final_film.rename(columns={'name': 'catalogy name'})\n"
   ]
  },
  {
   "cell_type": "code",
   "execution_count": 27,
   "metadata": {},
   "outputs": [
    {
     "data": {
      "text/plain": [
       "Index(['film_id', 'title', 'description', 'release_year', 'language_id',\n",
       "       'rental_duration', 'rental_rate', 'length', 'replacement_cost',\n",
       "       'rating', 'special_features', 'catalogy name'],\n",
       "      dtype='object')"
      ]
     },
     "execution_count": 27,
     "metadata": {},
     "output_type": "execute_result"
    }
   ],
   "source": [
    "df_final_film.columns"
   ]
  },
  {
   "cell_type": "markdown",
   "metadata": {},
   "source": [
    "### 3.2 Join the final film table with the language table"
   ]
  },
  {
   "cell_type": "code",
   "execution_count": 28,
   "metadata": {},
   "outputs": [],
   "source": [
    "df_final_language=pd.merge(df_language,df_final_film,on='language_id',how='inner')"
   ]
  },
  {
   "cell_type": "code",
   "execution_count": 29,
   "metadata": {},
   "outputs": [
    {
     "data": {
      "text/plain": [
       "Index(['language_id', 'name', 'last_update', 'film_id', 'title', 'description',\n",
       "       'release_year', 'rental_duration', 'rental_rate', 'length',\n",
       "       'replacement_cost', 'rating', 'special_features', 'catalogy name'],\n",
       "      dtype='object')"
      ]
     },
     "execution_count": 29,
     "metadata": {},
     "output_type": "execute_result"
    }
   ],
   "source": [
    "df_final_language.columns"
   ]
  },
  {
   "cell_type": "code",
   "execution_count": 30,
   "metadata": {},
   "outputs": [
    {
     "data": {
      "text/html": [
       "<div>\n",
       "<style scoped>\n",
       "    .dataframe tbody tr th:only-of-type {\n",
       "        vertical-align: middle;\n",
       "    }\n",
       "\n",
       "    .dataframe tbody tr th {\n",
       "        vertical-align: top;\n",
       "    }\n",
       "\n",
       "    .dataframe thead th {\n",
       "        text-align: right;\n",
       "    }\n",
       "</style>\n",
       "<table border=\"1\" class=\"dataframe\">\n",
       "  <thead>\n",
       "    <tr style=\"text-align: right;\">\n",
       "      <th></th>\n",
       "      <th>language_id</th>\n",
       "      <th>name</th>\n",
       "      <th>last_update</th>\n",
       "      <th>film_id</th>\n",
       "      <th>title</th>\n",
       "      <th>description</th>\n",
       "      <th>release_year</th>\n",
       "      <th>rental_duration</th>\n",
       "      <th>rental_rate</th>\n",
       "      <th>length</th>\n",
       "      <th>replacement_cost</th>\n",
       "      <th>rating</th>\n",
       "      <th>special_features</th>\n",
       "      <th>catalogy name</th>\n",
       "    </tr>\n",
       "  </thead>\n",
       "  <tbody>\n",
       "    <tr>\n",
       "      <th>0</th>\n",
       "      <td>1</td>\n",
       "      <td>English</td>\n",
       "      <td>2006-02-15 10:02:19</td>\n",
       "      <td>1</td>\n",
       "      <td>ACADEMY DINOSAUR</td>\n",
       "      <td>An Epic Drama of a Feminist And a Mad Scientis...</td>\n",
       "      <td>2006.0</td>\n",
       "      <td>6</td>\n",
       "      <td>0.99</td>\n",
       "      <td>86.0</td>\n",
       "      <td>20.99</td>\n",
       "      <td>PG</td>\n",
       "      <td>{\"Deleted Scenes\",\"Behind the Scenes\"}</td>\n",
       "      <td>Documentary</td>\n",
       "    </tr>\n",
       "    <tr>\n",
       "      <th>1</th>\n",
       "      <td>1</td>\n",
       "      <td>English</td>\n",
       "      <td>2006-02-15 10:02:19</td>\n",
       "      <td>2</td>\n",
       "      <td>ACE GOLDFINGER</td>\n",
       "      <td>A Astounding Epistle of a Database Administrat...</td>\n",
       "      <td>2006.0</td>\n",
       "      <td>3</td>\n",
       "      <td>4.99</td>\n",
       "      <td>48.0</td>\n",
       "      <td>12.99</td>\n",
       "      <td>G</td>\n",
       "      <td>{Trailers,\"Deleted Scenes\"}</td>\n",
       "      <td>Horror</td>\n",
       "    </tr>\n",
       "    <tr>\n",
       "      <th>2</th>\n",
       "      <td>1</td>\n",
       "      <td>English</td>\n",
       "      <td>2006-02-15 10:02:19</td>\n",
       "      <td>3</td>\n",
       "      <td>ADAPTATION HOLES</td>\n",
       "      <td>A Astounding Reflection of a Lumberjack And a ...</td>\n",
       "      <td>2006.0</td>\n",
       "      <td>7</td>\n",
       "      <td>2.99</td>\n",
       "      <td>50.0</td>\n",
       "      <td>18.99</td>\n",
       "      <td>NC-17</td>\n",
       "      <td>{Trailers,\"Deleted Scenes\"}</td>\n",
       "      <td>Documentary</td>\n",
       "    </tr>\n",
       "    <tr>\n",
       "      <th>3</th>\n",
       "      <td>1</td>\n",
       "      <td>English</td>\n",
       "      <td>2006-02-15 10:02:19</td>\n",
       "      <td>4</td>\n",
       "      <td>AFFAIR PREJUDICE</td>\n",
       "      <td>A Fanciful Documentary of a Frisbee And a Lumb...</td>\n",
       "      <td>2006.0</td>\n",
       "      <td>5</td>\n",
       "      <td>2.99</td>\n",
       "      <td>117.0</td>\n",
       "      <td>26.99</td>\n",
       "      <td>G</td>\n",
       "      <td>{Commentaries,\"Behind the Scenes\"}</td>\n",
       "      <td>Horror</td>\n",
       "    </tr>\n",
       "    <tr>\n",
       "      <th>4</th>\n",
       "      <td>1</td>\n",
       "      <td>English</td>\n",
       "      <td>2006-02-15 10:02:19</td>\n",
       "      <td>5</td>\n",
       "      <td>AFRICAN EGG</td>\n",
       "      <td>A Fast-Paced Documentary of a Pastry Chef And ...</td>\n",
       "      <td>2006.0</td>\n",
       "      <td>6</td>\n",
       "      <td>2.99</td>\n",
       "      <td>130.0</td>\n",
       "      <td>22.99</td>\n",
       "      <td>G</td>\n",
       "      <td>{\"Deleted Scenes\"}</td>\n",
       "      <td>Family</td>\n",
       "    </tr>\n",
       "  </tbody>\n",
       "</table>\n",
       "</div>"
      ],
      "text/plain": [
       "   language_id                  name          last_update  film_id  \\\n",
       "0            1  English               2006-02-15 10:02:19        1   \n",
       "1            1  English               2006-02-15 10:02:19        2   \n",
       "2            1  English               2006-02-15 10:02:19        3   \n",
       "3            1  English               2006-02-15 10:02:19        4   \n",
       "4            1  English               2006-02-15 10:02:19        5   \n",
       "\n",
       "              title                                        description  \\\n",
       "0  ACADEMY DINOSAUR  An Epic Drama of a Feminist And a Mad Scientis...   \n",
       "1    ACE GOLDFINGER  A Astounding Epistle of a Database Administrat...   \n",
       "2  ADAPTATION HOLES  A Astounding Reflection of a Lumberjack And a ...   \n",
       "3  AFFAIR PREJUDICE  A Fanciful Documentary of a Frisbee And a Lumb...   \n",
       "4       AFRICAN EGG  A Fast-Paced Documentary of a Pastry Chef And ...   \n",
       "\n",
       "   release_year  rental_duration  rental_rate  length  replacement_cost  \\\n",
       "0        2006.0                6         0.99    86.0             20.99   \n",
       "1        2006.0                3         4.99    48.0             12.99   \n",
       "2        2006.0                7         2.99    50.0             18.99   \n",
       "3        2006.0                5         2.99   117.0             26.99   \n",
       "4        2006.0                6         2.99   130.0             22.99   \n",
       "\n",
       "  rating                        special_features catalogy name  \n",
       "0     PG  {\"Deleted Scenes\",\"Behind the Scenes\"}   Documentary  \n",
       "1      G             {Trailers,\"Deleted Scenes\"}        Horror  \n",
       "2  NC-17             {Trailers,\"Deleted Scenes\"}   Documentary  \n",
       "3      G      {Commentaries,\"Behind the Scenes\"}        Horror  \n",
       "4      G                      {\"Deleted Scenes\"}        Family  "
      ]
     },
     "execution_count": 30,
     "metadata": {},
     "output_type": "execute_result"
    }
   ],
   "source": [
    "df_final_language.head(5)"
   ]
  },
  {
   "cell_type": "markdown",
   "metadata": {},
   "source": [
    "> Remove some unnecessary attributes"
   ]
  },
  {
   "cell_type": "code",
   "execution_count": 31,
   "metadata": {},
   "outputs": [],
   "source": [
    "list_remove_features=['language_id','last_update']\n",
    "df_final_language.drop(list_remove_features, axis=1, inplace=True)"
   ]
  },
  {
   "cell_type": "code",
   "execution_count": 32,
   "metadata": {},
   "outputs": [
    {
     "data": {
      "text/plain": [
       "Index(['name', 'film_id', 'title', 'description', 'release_year',\n",
       "       'rental_duration', 'rental_rate', 'length', 'replacement_cost',\n",
       "       'rating', 'special_features', 'catalogy name'],\n",
       "      dtype='object')"
      ]
     },
     "execution_count": 32,
     "metadata": {},
     "output_type": "execute_result"
    }
   ],
   "source": [
    "df_final_language.columns"
   ]
  },
  {
   "cell_type": "markdown",
   "metadata": {},
   "source": [
    "> rename a few attributes"
   ]
  },
  {
   "cell_type": "code",
   "execution_count": 33,
   "metadata": {},
   "outputs": [],
   "source": [
    "df_final_language = df_final_language.rename(columns={'name': 'language'})\n"
   ]
  },
  {
   "cell_type": "code",
   "execution_count": 34,
   "metadata": {},
   "outputs": [
    {
     "data": {
      "text/plain": [
       "Index(['language', 'film_id', 'title', 'description', 'release_year',\n",
       "       'rental_duration', 'rental_rate', 'length', 'replacement_cost',\n",
       "       'rating', 'special_features', 'catalogy name'],\n",
       "      dtype='object')"
      ]
     },
     "execution_count": 34,
     "metadata": {},
     "output_type": "execute_result"
    }
   ],
   "source": [
    "df_final_language.columns"
   ]
  },
  {
   "cell_type": "markdown",
   "metadata": {},
   "source": [
    "> format the attribute order"
   ]
  },
  {
   "cell_type": "code",
   "execution_count": 35,
   "metadata": {},
   "outputs": [],
   "source": [
    "df_final_language=df_final_language[['film_id', 'title', 'description', 'release_year','language',\n",
    "       'rental_duration', 'rental_rate', 'length', 'replacement_cost',\n",
    "       'rating', 'special_features', 'catalogy name']]"
   ]
  },
  {
   "cell_type": "code",
   "execution_count": 36,
   "metadata": {},
   "outputs": [
    {
     "data": {
      "text/plain": [
       "Index(['film_id', 'title', 'description', 'release_year', 'language',\n",
       "       'rental_duration', 'rental_rate', 'length', 'replacement_cost',\n",
       "       'rating', 'special_features', 'catalogy name'],\n",
       "      dtype='object')"
      ]
     },
     "execution_count": 36,
     "metadata": {},
     "output_type": "execute_result"
    }
   ],
   "source": [
    "df_final_language.columns"
   ]
  },
  {
   "cell_type": "markdown",
   "metadata": {},
   "source": [
    "### 3.3.Join the final language table with the inventory table "
   ]
  },
  {
   "cell_type": "code",
   "execution_count": 37,
   "metadata": {},
   "outputs": [],
   "source": [
    "df_diminventory=pd.merge(df_final_language,df_inventory,on='film_id',how='inner')"
   ]
  },
  {
   "cell_type": "code",
   "execution_count": 38,
   "metadata": {},
   "outputs": [
    {
     "data": {
      "text/plain": [
       "Index(['film_id', 'title', 'description', 'release_year', 'language',\n",
       "       'rental_duration', 'rental_rate', 'length', 'replacement_cost',\n",
       "       'rating', 'special_features', 'catalogy name', 'inventory_id',\n",
       "       'store_id', 'last_update'],\n",
       "      dtype='object')"
      ]
     },
     "execution_count": 38,
     "metadata": {},
     "output_type": "execute_result"
    }
   ],
   "source": [
    "df_diminventory.columns"
   ]
  },
  {
   "cell_type": "code",
   "execution_count": 39,
   "metadata": {},
   "outputs": [
    {
     "data": {
      "text/html": [
       "<div>\n",
       "<style scoped>\n",
       "    .dataframe tbody tr th:only-of-type {\n",
       "        vertical-align: middle;\n",
       "    }\n",
       "\n",
       "    .dataframe tbody tr th {\n",
       "        vertical-align: top;\n",
       "    }\n",
       "\n",
       "    .dataframe thead th {\n",
       "        text-align: right;\n",
       "    }\n",
       "</style>\n",
       "<table border=\"1\" class=\"dataframe\">\n",
       "  <thead>\n",
       "    <tr style=\"text-align: right;\">\n",
       "      <th></th>\n",
       "      <th>film_id</th>\n",
       "      <th>title</th>\n",
       "      <th>description</th>\n",
       "      <th>release_year</th>\n",
       "      <th>language</th>\n",
       "      <th>rental_duration</th>\n",
       "      <th>rental_rate</th>\n",
       "      <th>length</th>\n",
       "      <th>replacement_cost</th>\n",
       "      <th>rating</th>\n",
       "      <th>special_features</th>\n",
       "      <th>catalogy name</th>\n",
       "      <th>inventory_id</th>\n",
       "      <th>store_id</th>\n",
       "      <th>last_update</th>\n",
       "    </tr>\n",
       "  </thead>\n",
       "  <tbody>\n",
       "    <tr>\n",
       "      <th>0</th>\n",
       "      <td>1</td>\n",
       "      <td>ACADEMY DINOSAUR</td>\n",
       "      <td>An Epic Drama of a Feminist And a Mad Scientis...</td>\n",
       "      <td>2006.0</td>\n",
       "      <td>English</td>\n",
       "      <td>6</td>\n",
       "      <td>0.99</td>\n",
       "      <td>86.0</td>\n",
       "      <td>20.99</td>\n",
       "      <td>PG</td>\n",
       "      <td>{\"Deleted Scenes\",\"Behind the Scenes\"}</td>\n",
       "      <td>Documentary</td>\n",
       "      <td>1</td>\n",
       "      <td>1</td>\n",
       "      <td>2006-02-15 10:09:17</td>\n",
       "    </tr>\n",
       "    <tr>\n",
       "      <th>1</th>\n",
       "      <td>1</td>\n",
       "      <td>ACADEMY DINOSAUR</td>\n",
       "      <td>An Epic Drama of a Feminist And a Mad Scientis...</td>\n",
       "      <td>2006.0</td>\n",
       "      <td>English</td>\n",
       "      <td>6</td>\n",
       "      <td>0.99</td>\n",
       "      <td>86.0</td>\n",
       "      <td>20.99</td>\n",
       "      <td>PG</td>\n",
       "      <td>{\"Deleted Scenes\",\"Behind the Scenes\"}</td>\n",
       "      <td>Documentary</td>\n",
       "      <td>2</td>\n",
       "      <td>1</td>\n",
       "      <td>2006-02-15 10:09:17</td>\n",
       "    </tr>\n",
       "    <tr>\n",
       "      <th>2</th>\n",
       "      <td>1</td>\n",
       "      <td>ACADEMY DINOSAUR</td>\n",
       "      <td>An Epic Drama of a Feminist And a Mad Scientis...</td>\n",
       "      <td>2006.0</td>\n",
       "      <td>English</td>\n",
       "      <td>6</td>\n",
       "      <td>0.99</td>\n",
       "      <td>86.0</td>\n",
       "      <td>20.99</td>\n",
       "      <td>PG</td>\n",
       "      <td>{\"Deleted Scenes\",\"Behind the Scenes\"}</td>\n",
       "      <td>Documentary</td>\n",
       "      <td>3</td>\n",
       "      <td>1</td>\n",
       "      <td>2006-02-15 10:09:17</td>\n",
       "    </tr>\n",
       "    <tr>\n",
       "      <th>3</th>\n",
       "      <td>1</td>\n",
       "      <td>ACADEMY DINOSAUR</td>\n",
       "      <td>An Epic Drama of a Feminist And a Mad Scientis...</td>\n",
       "      <td>2006.0</td>\n",
       "      <td>English</td>\n",
       "      <td>6</td>\n",
       "      <td>0.99</td>\n",
       "      <td>86.0</td>\n",
       "      <td>20.99</td>\n",
       "      <td>PG</td>\n",
       "      <td>{\"Deleted Scenes\",\"Behind the Scenes\"}</td>\n",
       "      <td>Documentary</td>\n",
       "      <td>4</td>\n",
       "      <td>1</td>\n",
       "      <td>2006-02-15 10:09:17</td>\n",
       "    </tr>\n",
       "    <tr>\n",
       "      <th>4</th>\n",
       "      <td>1</td>\n",
       "      <td>ACADEMY DINOSAUR</td>\n",
       "      <td>An Epic Drama of a Feminist And a Mad Scientis...</td>\n",
       "      <td>2006.0</td>\n",
       "      <td>English</td>\n",
       "      <td>6</td>\n",
       "      <td>0.99</td>\n",
       "      <td>86.0</td>\n",
       "      <td>20.99</td>\n",
       "      <td>PG</td>\n",
       "      <td>{\"Deleted Scenes\",\"Behind the Scenes\"}</td>\n",
       "      <td>Documentary</td>\n",
       "      <td>5</td>\n",
       "      <td>2</td>\n",
       "      <td>2006-02-15 10:09:17</td>\n",
       "    </tr>\n",
       "  </tbody>\n",
       "</table>\n",
       "</div>"
      ],
      "text/plain": [
       "   film_id             title  \\\n",
       "0        1  ACADEMY DINOSAUR   \n",
       "1        1  ACADEMY DINOSAUR   \n",
       "2        1  ACADEMY DINOSAUR   \n",
       "3        1  ACADEMY DINOSAUR   \n",
       "4        1  ACADEMY DINOSAUR   \n",
       "\n",
       "                                         description  release_year  \\\n",
       "0  An Epic Drama of a Feminist And a Mad Scientis...        2006.0   \n",
       "1  An Epic Drama of a Feminist And a Mad Scientis...        2006.0   \n",
       "2  An Epic Drama of a Feminist And a Mad Scientis...        2006.0   \n",
       "3  An Epic Drama of a Feminist And a Mad Scientis...        2006.0   \n",
       "4  An Epic Drama of a Feminist And a Mad Scientis...        2006.0   \n",
       "\n",
       "               language  rental_duration  rental_rate  length  \\\n",
       "0  English                             6         0.99    86.0   \n",
       "1  English                             6         0.99    86.0   \n",
       "2  English                             6         0.99    86.0   \n",
       "3  English                             6         0.99    86.0   \n",
       "4  English                             6         0.99    86.0   \n",
       "\n",
       "   replacement_cost rating                        special_features  \\\n",
       "0             20.99     PG  {\"Deleted Scenes\",\"Behind the Scenes\"}   \n",
       "1             20.99     PG  {\"Deleted Scenes\",\"Behind the Scenes\"}   \n",
       "2             20.99     PG  {\"Deleted Scenes\",\"Behind the Scenes\"}   \n",
       "3             20.99     PG  {\"Deleted Scenes\",\"Behind the Scenes\"}   \n",
       "4             20.99     PG  {\"Deleted Scenes\",\"Behind the Scenes\"}   \n",
       "\n",
       "  catalogy name  inventory_id  store_id          last_update  \n",
       "0   Documentary             1         1  2006-02-15 10:09:17  \n",
       "1   Documentary             2         1  2006-02-15 10:09:17  \n",
       "2   Documentary             3         1  2006-02-15 10:09:17  \n",
       "3   Documentary             4         1  2006-02-15 10:09:17  \n",
       "4   Documentary             5         2  2006-02-15 10:09:17  "
      ]
     },
     "execution_count": 39,
     "metadata": {},
     "output_type": "execute_result"
    }
   ],
   "source": [
    "df_diminventory.head(5)"
   ]
  },
  {
   "cell_type": "markdown",
   "metadata": {},
   "source": [
    "> Remove some unnecessary attributes"
   ]
  },
  {
   "cell_type": "code",
   "execution_count": 40,
   "metadata": {},
   "outputs": [],
   "source": [
    "dim_remove_feature=['film_id','store_id', 'last_update']\n",
    "df_diminventory.drop(dim_remove_feature, axis=1, inplace=True)"
   ]
  },
  {
   "cell_type": "code",
   "execution_count": 41,
   "metadata": {},
   "outputs": [
    {
     "data": {
      "text/plain": [
       "Index(['title', 'description', 'release_year', 'language', 'rental_duration',\n",
       "       'rental_rate', 'length', 'replacement_cost', 'rating',\n",
       "       'special_features', 'catalogy name', 'inventory_id'],\n",
       "      dtype='object')"
      ]
     },
     "execution_count": 41,
     "metadata": {},
     "output_type": "execute_result"
    }
   ],
   "source": [
    "df_diminventory.columns"
   ]
  },
  {
   "cell_type": "code",
   "execution_count": 42,
   "metadata": {},
   "outputs": [
    {
     "data": {
      "text/html": [
       "<div>\n",
       "<style scoped>\n",
       "    .dataframe tbody tr th:only-of-type {\n",
       "        vertical-align: middle;\n",
       "    }\n",
       "\n",
       "    .dataframe tbody tr th {\n",
       "        vertical-align: top;\n",
       "    }\n",
       "\n",
       "    .dataframe thead th {\n",
       "        text-align: right;\n",
       "    }\n",
       "</style>\n",
       "<table border=\"1\" class=\"dataframe\">\n",
       "  <thead>\n",
       "    <tr style=\"text-align: right;\">\n",
       "      <th></th>\n",
       "      <th>title</th>\n",
       "      <th>description</th>\n",
       "      <th>release_year</th>\n",
       "      <th>language</th>\n",
       "      <th>rental_duration</th>\n",
       "      <th>rental_rate</th>\n",
       "      <th>length</th>\n",
       "      <th>replacement_cost</th>\n",
       "      <th>rating</th>\n",
       "      <th>special_features</th>\n",
       "      <th>catalogy name</th>\n",
       "      <th>inventory_id</th>\n",
       "    </tr>\n",
       "  </thead>\n",
       "  <tbody>\n",
       "    <tr>\n",
       "      <th>0</th>\n",
       "      <td>ACADEMY DINOSAUR</td>\n",
       "      <td>An Epic Drama of a Feminist And a Mad Scientis...</td>\n",
       "      <td>2006.0</td>\n",
       "      <td>English</td>\n",
       "      <td>6</td>\n",
       "      <td>0.99</td>\n",
       "      <td>86.0</td>\n",
       "      <td>20.99</td>\n",
       "      <td>PG</td>\n",
       "      <td>{\"Deleted Scenes\",\"Behind the Scenes\"}</td>\n",
       "      <td>Documentary</td>\n",
       "      <td>1</td>\n",
       "    </tr>\n",
       "    <tr>\n",
       "      <th>1</th>\n",
       "      <td>ACADEMY DINOSAUR</td>\n",
       "      <td>An Epic Drama of a Feminist And a Mad Scientis...</td>\n",
       "      <td>2006.0</td>\n",
       "      <td>English</td>\n",
       "      <td>6</td>\n",
       "      <td>0.99</td>\n",
       "      <td>86.0</td>\n",
       "      <td>20.99</td>\n",
       "      <td>PG</td>\n",
       "      <td>{\"Deleted Scenes\",\"Behind the Scenes\"}</td>\n",
       "      <td>Documentary</td>\n",
       "      <td>2</td>\n",
       "    </tr>\n",
       "    <tr>\n",
       "      <th>2</th>\n",
       "      <td>ACADEMY DINOSAUR</td>\n",
       "      <td>An Epic Drama of a Feminist And a Mad Scientis...</td>\n",
       "      <td>2006.0</td>\n",
       "      <td>English</td>\n",
       "      <td>6</td>\n",
       "      <td>0.99</td>\n",
       "      <td>86.0</td>\n",
       "      <td>20.99</td>\n",
       "      <td>PG</td>\n",
       "      <td>{\"Deleted Scenes\",\"Behind the Scenes\"}</td>\n",
       "      <td>Documentary</td>\n",
       "      <td>3</td>\n",
       "    </tr>\n",
       "    <tr>\n",
       "      <th>3</th>\n",
       "      <td>ACADEMY DINOSAUR</td>\n",
       "      <td>An Epic Drama of a Feminist And a Mad Scientis...</td>\n",
       "      <td>2006.0</td>\n",
       "      <td>English</td>\n",
       "      <td>6</td>\n",
       "      <td>0.99</td>\n",
       "      <td>86.0</td>\n",
       "      <td>20.99</td>\n",
       "      <td>PG</td>\n",
       "      <td>{\"Deleted Scenes\",\"Behind the Scenes\"}</td>\n",
       "      <td>Documentary</td>\n",
       "      <td>4</td>\n",
       "    </tr>\n",
       "    <tr>\n",
       "      <th>4</th>\n",
       "      <td>ACADEMY DINOSAUR</td>\n",
       "      <td>An Epic Drama of a Feminist And a Mad Scientis...</td>\n",
       "      <td>2006.0</td>\n",
       "      <td>English</td>\n",
       "      <td>6</td>\n",
       "      <td>0.99</td>\n",
       "      <td>86.0</td>\n",
       "      <td>20.99</td>\n",
       "      <td>PG</td>\n",
       "      <td>{\"Deleted Scenes\",\"Behind the Scenes\"}</td>\n",
       "      <td>Documentary</td>\n",
       "      <td>5</td>\n",
       "    </tr>\n",
       "  </tbody>\n",
       "</table>\n",
       "</div>"
      ],
      "text/plain": [
       "              title                                        description  \\\n",
       "0  ACADEMY DINOSAUR  An Epic Drama of a Feminist And a Mad Scientis...   \n",
       "1  ACADEMY DINOSAUR  An Epic Drama of a Feminist And a Mad Scientis...   \n",
       "2  ACADEMY DINOSAUR  An Epic Drama of a Feminist And a Mad Scientis...   \n",
       "3  ACADEMY DINOSAUR  An Epic Drama of a Feminist And a Mad Scientis...   \n",
       "4  ACADEMY DINOSAUR  An Epic Drama of a Feminist And a Mad Scientis...   \n",
       "\n",
       "   release_year              language  rental_duration  rental_rate  length  \\\n",
       "0        2006.0  English                             6         0.99    86.0   \n",
       "1        2006.0  English                             6         0.99    86.0   \n",
       "2        2006.0  English                             6         0.99    86.0   \n",
       "3        2006.0  English                             6         0.99    86.0   \n",
       "4        2006.0  English                             6         0.99    86.0   \n",
       "\n",
       "   replacement_cost rating                        special_features  \\\n",
       "0             20.99     PG  {\"Deleted Scenes\",\"Behind the Scenes\"}   \n",
       "1             20.99     PG  {\"Deleted Scenes\",\"Behind the Scenes\"}   \n",
       "2             20.99     PG  {\"Deleted Scenes\",\"Behind the Scenes\"}   \n",
       "3             20.99     PG  {\"Deleted Scenes\",\"Behind the Scenes\"}   \n",
       "4             20.99     PG  {\"Deleted Scenes\",\"Behind the Scenes\"}   \n",
       "\n",
       "  catalogy name  inventory_id  \n",
       "0   Documentary             1  \n",
       "1   Documentary             2  \n",
       "2   Documentary             3  \n",
       "3   Documentary             4  \n",
       "4   Documentary             5  "
      ]
     },
     "execution_count": 42,
     "metadata": {},
     "output_type": "execute_result"
    }
   ],
   "source": [
    "df_diminventory.head(5)"
   ]
  },
  {
   "cell_type": "markdown",
   "metadata": {},
   "source": [
    "> format the attribute order "
   ]
  },
  {
   "cell_type": "code",
   "execution_count": 43,
   "metadata": {},
   "outputs": [],
   "source": [
    "df_diminventory=df_diminventory[['inventory_id','title', 'description', 'release_year', 'language', 'rental_duration',\n",
    "       'rental_rate', 'length', 'replacement_cost', 'rating',\n",
    "       'special_features', 'catalogy name']]"
   ]
  },
  {
   "cell_type": "code",
   "execution_count": 44,
   "metadata": {},
   "outputs": [
    {
     "data": {
      "text/plain": [
       "Index(['inventory_id', 'title', 'description', 'release_year', 'language',\n",
       "       'rental_duration', 'rental_rate', 'length', 'replacement_cost',\n",
       "       'rating', 'special_features', 'catalogy name'],\n",
       "      dtype='object')"
      ]
     },
     "execution_count": 44,
     "metadata": {},
     "output_type": "execute_result"
    }
   ],
   "source": [
    "df_diminventory.columns"
   ]
  },
  {
   "cell_type": "code",
   "execution_count": 45,
   "metadata": {},
   "outputs": [
    {
     "data": {
      "text/plain": [
       "(4581, 12)"
      ]
     },
     "execution_count": 45,
     "metadata": {},
     "output_type": "execute_result"
    }
   ],
   "source": [
    "df_diminventory.shape"
   ]
  },
  {
   "cell_type": "markdown",
   "metadata": {},
   "source": [
    ">Dump dimensions Inventory to csv files"
   ]
  },
  {
   "cell_type": "code",
   "execution_count": 46,
   "metadata": {},
   "outputs": [],
   "source": [
    "df_diminventory.to_csv('./data/tables/dimInventory.csv', index_label='inventory_key')"
   ]
  },
  {
   "cell_type": "markdown",
   "metadata": {},
   "source": [
    "### 3.4.Create data fact_inventory_analysis.csv"
   ]
  },
  {
   "cell_type": "markdown",
   "metadata": {},
   "source": [
    "> Read data of dimension files"
   ]
  },
  {
   "cell_type": "code",
   "execution_count": 47,
   "metadata": {},
   "outputs": [],
   "source": [
    "# Đọc dữ liệu từ các tệp CSV vào DataFrame\n",
    "df_inventory = pd.read_csv(\"../ProjectBDA/data/tables/dimInventory.csv\")\n",
    "df_rental = pd.read_csv(\"../ProjectBDA/data/tables/dimRental.txt\")\n",
    "df_date = pd.read_csv(\"../ProjectBDA/data/tables/dimDate.csv\")"
   ]
  },
  {
   "cell_type": "markdown",
   "metadata": {},
   "source": [
    "> Calculate measure"
   ]
  },
  {
   "cell_type": "markdown",
   "metadata": {},
   "source": [
    "> Calculate  the number of films remaining in stock\n"
   ]
  },
  {
   "cell_type": "code",
   "execution_count": 48,
   "metadata": {},
   "outputs": [],
   "source": [
    "merged_df = df_inventory.merge(df_rental, on='inventory_id', how='left')\n"
   ]
  },
  {
   "cell_type": "code",
   "execution_count": 49,
   "metadata": {},
   "outputs": [],
   "source": [
    "# Group by inventory_id and count the number of rentals for each item\n",
    "rental_counts = merged_df.groupby('inventory_id')['rental_key'].count().reset_index(name='rental_count')"
   ]
  },
  {
   "cell_type": "code",
   "execution_count": 50,
   "metadata": {},
   "outputs": [],
   "source": [
    "df_remaining = df_inventory.merge(rental_counts, on='inventory_id', how='left')"
   ]
  },
  {
   "cell_type": "code",
   "execution_count": 51,
   "metadata": {},
   "outputs": [],
   "source": [
    "# Calculate the remaining quantity of each inventory item\n",
    "df_remaining['remaining'] = df_inventory['inventory_id'].count() - df_remaining['rental_count']"
   ]
  },
  {
   "cell_type": "code",
   "execution_count": 52,
   "metadata": {},
   "outputs": [
    {
     "data": {
      "text/html": [
       "<div>\n",
       "<style scoped>\n",
       "    .dataframe tbody tr th:only-of-type {\n",
       "        vertical-align: middle;\n",
       "    }\n",
       "\n",
       "    .dataframe tbody tr th {\n",
       "        vertical-align: top;\n",
       "    }\n",
       "\n",
       "    .dataframe thead th {\n",
       "        text-align: right;\n",
       "    }\n",
       "</style>\n",
       "<table border=\"1\" class=\"dataframe\">\n",
       "  <thead>\n",
       "    <tr style=\"text-align: right;\">\n",
       "      <th></th>\n",
       "      <th>inventory_key</th>\n",
       "      <th>inventory_id</th>\n",
       "      <th>title</th>\n",
       "      <th>description</th>\n",
       "      <th>release_year</th>\n",
       "      <th>language</th>\n",
       "      <th>rental_duration</th>\n",
       "      <th>rental_rate</th>\n",
       "      <th>length</th>\n",
       "      <th>replacement_cost</th>\n",
       "      <th>rating</th>\n",
       "      <th>special_features</th>\n",
       "      <th>catalogy name</th>\n",
       "      <th>rental_count</th>\n",
       "      <th>remaining</th>\n",
       "    </tr>\n",
       "  </thead>\n",
       "  <tbody>\n",
       "    <tr>\n",
       "      <th>0</th>\n",
       "      <td>0</td>\n",
       "      <td>1</td>\n",
       "      <td>ACADEMY DINOSAUR</td>\n",
       "      <td>An Epic Drama of a Feminist And a Mad Scientis...</td>\n",
       "      <td>2006.0</td>\n",
       "      <td>English</td>\n",
       "      <td>6</td>\n",
       "      <td>0.99</td>\n",
       "      <td>86.0</td>\n",
       "      <td>20.99</td>\n",
       "      <td>PG</td>\n",
       "      <td>{\"Deleted Scenes\",\"Behind the Scenes\"}</td>\n",
       "      <td>Documentary</td>\n",
       "      <td>3</td>\n",
       "      <td>4578</td>\n",
       "    </tr>\n",
       "    <tr>\n",
       "      <th>1</th>\n",
       "      <td>1</td>\n",
       "      <td>2</td>\n",
       "      <td>ACADEMY DINOSAUR</td>\n",
       "      <td>An Epic Drama of a Feminist And a Mad Scientis...</td>\n",
       "      <td>2006.0</td>\n",
       "      <td>English</td>\n",
       "      <td>6</td>\n",
       "      <td>0.99</td>\n",
       "      <td>86.0</td>\n",
       "      <td>20.99</td>\n",
       "      <td>PG</td>\n",
       "      <td>{\"Deleted Scenes\",\"Behind the Scenes\"}</td>\n",
       "      <td>Documentary</td>\n",
       "      <td>5</td>\n",
       "      <td>4576</td>\n",
       "    </tr>\n",
       "    <tr>\n",
       "      <th>2</th>\n",
       "      <td>2</td>\n",
       "      <td>3</td>\n",
       "      <td>ACADEMY DINOSAUR</td>\n",
       "      <td>An Epic Drama of a Feminist And a Mad Scientis...</td>\n",
       "      <td>2006.0</td>\n",
       "      <td>English</td>\n",
       "      <td>6</td>\n",
       "      <td>0.99</td>\n",
       "      <td>86.0</td>\n",
       "      <td>20.99</td>\n",
       "      <td>PG</td>\n",
       "      <td>{\"Deleted Scenes\",\"Behind the Scenes\"}</td>\n",
       "      <td>Documentary</td>\n",
       "      <td>2</td>\n",
       "      <td>4579</td>\n",
       "    </tr>\n",
       "    <tr>\n",
       "      <th>3</th>\n",
       "      <td>3</td>\n",
       "      <td>4</td>\n",
       "      <td>ACADEMY DINOSAUR</td>\n",
       "      <td>An Epic Drama of a Feminist And a Mad Scientis...</td>\n",
       "      <td>2006.0</td>\n",
       "      <td>English</td>\n",
       "      <td>6</td>\n",
       "      <td>0.99</td>\n",
       "      <td>86.0</td>\n",
       "      <td>20.99</td>\n",
       "      <td>PG</td>\n",
       "      <td>{\"Deleted Scenes\",\"Behind the Scenes\"}</td>\n",
       "      <td>Documentary</td>\n",
       "      <td>2</td>\n",
       "      <td>4579</td>\n",
       "    </tr>\n",
       "    <tr>\n",
       "      <th>4</th>\n",
       "      <td>4</td>\n",
       "      <td>5</td>\n",
       "      <td>ACADEMY DINOSAUR</td>\n",
       "      <td>An Epic Drama of a Feminist And a Mad Scientis...</td>\n",
       "      <td>2006.0</td>\n",
       "      <td>English</td>\n",
       "      <td>6</td>\n",
       "      <td>0.99</td>\n",
       "      <td>86.0</td>\n",
       "      <td>20.99</td>\n",
       "      <td>PG</td>\n",
       "      <td>{\"Deleted Scenes\",\"Behind the Scenes\"}</td>\n",
       "      <td>Documentary</td>\n",
       "      <td>0</td>\n",
       "      <td>4581</td>\n",
       "    </tr>\n",
       "  </tbody>\n",
       "</table>\n",
       "</div>"
      ],
      "text/plain": [
       "   inventory_key  inventory_id             title  \\\n",
       "0              0             1  ACADEMY DINOSAUR   \n",
       "1              1             2  ACADEMY DINOSAUR   \n",
       "2              2             3  ACADEMY DINOSAUR   \n",
       "3              3             4  ACADEMY DINOSAUR   \n",
       "4              4             5  ACADEMY DINOSAUR   \n",
       "\n",
       "                                         description  release_year  \\\n",
       "0  An Epic Drama of a Feminist And a Mad Scientis...        2006.0   \n",
       "1  An Epic Drama of a Feminist And a Mad Scientis...        2006.0   \n",
       "2  An Epic Drama of a Feminist And a Mad Scientis...        2006.0   \n",
       "3  An Epic Drama of a Feminist And a Mad Scientis...        2006.0   \n",
       "4  An Epic Drama of a Feminist And a Mad Scientis...        2006.0   \n",
       "\n",
       "               language  rental_duration  rental_rate  length  \\\n",
       "0  English                             6         0.99    86.0   \n",
       "1  English                             6         0.99    86.0   \n",
       "2  English                             6         0.99    86.0   \n",
       "3  English                             6         0.99    86.0   \n",
       "4  English                             6         0.99    86.0   \n",
       "\n",
       "   replacement_cost rating                        special_features  \\\n",
       "0             20.99     PG  {\"Deleted Scenes\",\"Behind the Scenes\"}   \n",
       "1             20.99     PG  {\"Deleted Scenes\",\"Behind the Scenes\"}   \n",
       "2             20.99     PG  {\"Deleted Scenes\",\"Behind the Scenes\"}   \n",
       "3             20.99     PG  {\"Deleted Scenes\",\"Behind the Scenes\"}   \n",
       "4             20.99     PG  {\"Deleted Scenes\",\"Behind the Scenes\"}   \n",
       "\n",
       "  catalogy name  rental_count  remaining  \n",
       "0   Documentary             3       4578  \n",
       "1   Documentary             5       4576  \n",
       "2   Documentary             2       4579  \n",
       "3   Documentary             2       4579  \n",
       "4   Documentary             0       4581  "
      ]
     },
     "execution_count": 52,
     "metadata": {},
     "output_type": "execute_result"
    }
   ],
   "source": [
    "df_remaining.head(5)"
   ]
  },
  {
   "cell_type": "markdown",
   "metadata": {},
   "source": [
    "> Calculate Total Rental Amount"
   ]
  },
  {
   "cell_type": "code",
   "execution_count": 53,
   "metadata": {},
   "outputs": [],
   "source": [
    "total_rental_amount_df = df_rental.groupby('inventory_id')['amount'].sum().reset_index(name='Total_Rental_Amount')"
   ]
  },
  {
   "cell_type": "code",
   "execution_count": 54,
   "metadata": {},
   "outputs": [
    {
     "data": {
      "text/html": [
       "<div>\n",
       "<style scoped>\n",
       "    .dataframe tbody tr th:only-of-type {\n",
       "        vertical-align: middle;\n",
       "    }\n",
       "\n",
       "    .dataframe tbody tr th {\n",
       "        vertical-align: top;\n",
       "    }\n",
       "\n",
       "    .dataframe thead th {\n",
       "        text-align: right;\n",
       "    }\n",
       "</style>\n",
       "<table border=\"1\" class=\"dataframe\">\n",
       "  <thead>\n",
       "    <tr style=\"text-align: right;\">\n",
       "      <th></th>\n",
       "      <th>inventory_id</th>\n",
       "      <th>Total_Rental_Amount</th>\n",
       "    </tr>\n",
       "  </thead>\n",
       "  <tbody>\n",
       "    <tr>\n",
       "      <th>0</th>\n",
       "      <td>1</td>\n",
       "      <td>8.97</td>\n",
       "    </tr>\n",
       "    <tr>\n",
       "      <th>1</th>\n",
       "      <td>2</td>\n",
       "      <td>7.95</td>\n",
       "    </tr>\n",
       "    <tr>\n",
       "      <th>2</th>\n",
       "      <td>3</td>\n",
       "      <td>1.98</td>\n",
       "    </tr>\n",
       "    <tr>\n",
       "      <th>3</th>\n",
       "      <td>4</td>\n",
       "      <td>1.98</td>\n",
       "    </tr>\n",
       "    <tr>\n",
       "      <th>4</th>\n",
       "      <td>6</td>\n",
       "      <td>8.95</td>\n",
       "    </tr>\n",
       "  </tbody>\n",
       "</table>\n",
       "</div>"
      ],
      "text/plain": [
       "   inventory_id  Total_Rental_Amount\n",
       "0             1                 8.97\n",
       "1             2                 7.95\n",
       "2             3                 1.98\n",
       "3             4                 1.98\n",
       "4             6                 8.95"
      ]
     },
     "execution_count": 54,
     "metadata": {},
     "output_type": "execute_result"
    }
   ],
   "source": [
    "total_rental_amount_df .head(5)"
   ]
  },
  {
   "cell_type": "code",
   "execution_count": 55,
   "metadata": {},
   "outputs": [],
   "source": [
    "df_rental_temp=pd.merge(total_rental_amount_df ,df_rental,on='inventory_id',how='inner')"
   ]
  },
  {
   "cell_type": "code",
   "execution_count": 56,
   "metadata": {},
   "outputs": [
    {
     "data": {
      "text/plain": [
       "Index(['inventory_id', 'Total_Rental_Amount', 'rental_key', 'rental_id',\n",
       "       'rental_date', 'customer_id', 'return_date', 'staff_id', 'amount',\n",
       "       'payment_date', 'rental_month'],\n",
       "      dtype='object')"
      ]
     },
     "execution_count": 56,
     "metadata": {},
     "output_type": "execute_result"
    }
   ],
   "source": [
    "df_rental_temp.columns"
   ]
  },
  {
   "cell_type": "code",
   "execution_count": 57,
   "metadata": {},
   "outputs": [
    {
     "data": {
      "text/html": [
       "<div>\n",
       "<style scoped>\n",
       "    .dataframe tbody tr th:only-of-type {\n",
       "        vertical-align: middle;\n",
       "    }\n",
       "\n",
       "    .dataframe tbody tr th {\n",
       "        vertical-align: top;\n",
       "    }\n",
       "\n",
       "    .dataframe thead th {\n",
       "        text-align: right;\n",
       "    }\n",
       "</style>\n",
       "<table border=\"1\" class=\"dataframe\">\n",
       "  <thead>\n",
       "    <tr style=\"text-align: right;\">\n",
       "      <th></th>\n",
       "      <th>rental_key</th>\n",
       "      <th>rental_date</th>\n",
       "      <th>Total_Rental_Amount</th>\n",
       "    </tr>\n",
       "  </thead>\n",
       "  <tbody>\n",
       "    <tr>\n",
       "      <th>0</th>\n",
       "      <td>3516</td>\n",
       "      <td>2005-07-08</td>\n",
       "      <td>8.97</td>\n",
       "    </tr>\n",
       "    <tr>\n",
       "      <th>1</th>\n",
       "      <td>10084</td>\n",
       "      <td>2005-08-02</td>\n",
       "      <td>8.97</td>\n",
       "    </tr>\n",
       "    <tr>\n",
       "      <th>2</th>\n",
       "      <td>13365</td>\n",
       "      <td>2005-08-21</td>\n",
       "      <td>8.97</td>\n",
       "    </tr>\n",
       "    <tr>\n",
       "      <th>3</th>\n",
       "      <td>771</td>\n",
       "      <td>2005-06-17</td>\n",
       "      <td>7.95</td>\n",
       "    </tr>\n",
       "    <tr>\n",
       "      <th>4</th>\n",
       "      <td>2840</td>\n",
       "      <td>2005-07-07</td>\n",
       "      <td>7.95</td>\n",
       "    </tr>\n",
       "  </tbody>\n",
       "</table>\n",
       "</div>"
      ],
      "text/plain": [
       "   rental_key rental_date  Total_Rental_Amount\n",
       "0        3516  2005-07-08                 8.97\n",
       "1       10084  2005-08-02                 8.97\n",
       "2       13365  2005-08-21                 8.97\n",
       "3         771  2005-06-17                 7.95\n",
       "4        2840  2005-07-07                 7.95"
      ]
     },
     "execution_count": 57,
     "metadata": {},
     "output_type": "execute_result"
    }
   ],
   "source": [
    "df_rental_temp[['rental_key','rental_date','Total_Rental_Amount']].head(5)"
   ]
  },
  {
   "cell_type": "code",
   "execution_count": 58,
   "metadata": {},
   "outputs": [],
   "source": [
    "fact_inventory_analysis_df = pd.merge(df_remaining, df_rental_temp,on='inventory_id' , how='inner')\n",
    "fact_inventory_analysis_df['rental_date_key']=df_DimDate['date_key']"
   ]
  },
  {
   "cell_type": "code",
   "execution_count": 59,
   "metadata": {},
   "outputs": [
    {
     "data": {
      "text/plain": [
       "Index(['inventory_key', 'inventory_id', 'title', 'description', 'release_year',\n",
       "       'language', 'rental_duration', 'rental_rate', 'length',\n",
       "       'replacement_cost', 'rating', 'special_features', 'catalogy name',\n",
       "       'rental_count', 'remaining', 'Total_Rental_Amount', 'rental_key',\n",
       "       'rental_id', 'rental_date', 'customer_id', 'return_date', 'staff_id',\n",
       "       'amount', 'payment_date', 'rental_month', 'rental_date_key'],\n",
       "      dtype='object')"
      ]
     },
     "execution_count": 59,
     "metadata": {},
     "output_type": "execute_result"
    }
   ],
   "source": [
    "fact_inventory_analysis_df.columns"
   ]
  },
  {
   "cell_type": "code",
   "execution_count": 60,
   "metadata": {},
   "outputs": [],
   "source": [
    "fact_inventory_analysis_df = fact_inventory_analysis_df[['inventory_key', 'rental_key', 'rental_date_key', 'remaining', 'Total_Rental_Amount']]\n"
   ]
  },
  {
   "cell_type": "markdown",
   "metadata": {},
   "source": [
    "> dump fact_inventory_analysis_df to csv"
   ]
  },
  {
   "cell_type": "code",
   "execution_count": 61,
   "metadata": {},
   "outputs": [],
   "source": [
    "fact_inventory_analysis_df.to_csv('../ProjectBDA/data/tables/Fact_Inventory_Analysis.csv', index=False)\n"
   ]
  }
 ],
 "metadata": {
  "kernelspec": {
   "display_name": "DM-xmUrTfoX",
   "language": "python",
   "name": "python3"
  },
  "language_info": {
   "codemirror_mode": {
    "name": "ipython",
    "version": 3
   },
   "file_extension": ".py",
   "mimetype": "text/x-python",
   "name": "python",
   "nbconvert_exporter": "python",
   "pygments_lexer": "ipython3",
   "version": "3.9.8"
  }
 },
 "nbformat": 4,
 "nbformat_minor": 2
}
